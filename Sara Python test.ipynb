{
    "cells": [
        {
            "cell_type": "code",
            "execution_count": 2,
            "metadata": {},
            "outputs": [
                {
                    "name": "stdout",
                    "output_type": "stream",
                    "text": "Page 1:\nSara Item 1\nItem 2\nSara Item 3\n\nPage 2:\nItem 4\nItem 5\nItem 6\n\nPage 3:\nItem 7\nItem 8\nItem 9\n\nPage 4:\nItem 10\n\nCurrent page: 1\nTotal pages: 4\n"
                }
            ],
            "source": "def paginate_data(data, page_size):\n    num_pages = len(data) // page_size + 1\n    pages = [data[i:i+page_size] for i in range(0, len(data), page_size)]\n    return pages, num_pages\n\ndef display_page(page_data, page_number):\n    print(f\"Page {page_number}:\")\n    for item in page_data:\n        print(item)\n\n# Sample data\ndata = [\"Sara Item 1\", \"Item 2\", \"Sara Item 3\", \"Item 4\", \"Item 5\", \"Item 6\", \"Item 7\", \"Item 8\", \"Item 9\", \"Item 10\"]\n\n# Set the page size\npage_size = 3\n\n# Paginate the data\npages, num_pages = paginate_data(data, page_size)\n\n# Display the pages\nfor page_number, page_data in enumerate(pages, start=1):\n    display_page(page_data, page_number)\n    print()\n\n# Show current page and total number of pages\nprint(f\"Current page: 1\")\nprint(f\"Total pages: {num_pages}\")\n"
        },
        {
            "cell_type": "code",
            "execution_count": null,
            "metadata": {},
            "outputs": [],
            "source": ""
        },
        {
            "cell_type": "code",
            "execution_count": null,
            "metadata": {},
            "outputs": [],
            "source": ""
        },
        {
            "cell_type": "code",
            "execution_count": null,
            "metadata": {},
            "outputs": [],
            "source": ""
        }
    ],
    "metadata": {
        "kernelspec": {
            "display_name": "Python 3.10",
            "language": "python",
            "name": "python3"
        },
        "language_info": {
            "codemirror_mode": {
                "name": "ipython",
                "version": 3
            },
            "file_extension": ".py",
            "mimetype": "text/x-python",
            "name": "python",
            "nbconvert_exporter": "python",
            "pygments_lexer": "ipython3",
            "version": "3.10.9"
        }
    },
    "nbformat": 4,
    "nbformat_minor": 1
}